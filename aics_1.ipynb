{
  "nbformat": 4,
  "nbformat_minor": 0,
  "metadata": {
    "colab": {
      "provenance": []
    },
    "kernelspec": {
      "name": "python3",
      "display_name": "Python 3"
    },
    "language_info": {
      "name": "python"
    }
  },
  "cells": [
    {
      "cell_type": "code",
      "source": [
        "# !gdown 1xJiBEagdU2Ja8tIoULFFWeBG-mt2GMBk"
      ],
      "metadata": {
        "id": "1WVmNaW22U-n"
      },
      "execution_count": null,
      "outputs": []
    },
    {
      "cell_type": "code",
      "execution_count": 25,
      "metadata": {
        "id": "cvvrXgHk6BBW",
        "colab": {
          "base_uri": "https://localhost:8080/"
        },
        "outputId": "cdb6746e-252a-46ba-d4c9-f8f0b0f6d013"
      },
      "outputs": [
        {
          "output_type": "stream",
          "name": "stdout",
          "text": [
            "Accuracy: 98.39 %\n"
          ]
        }
      ],
      "source": [
        "#importing the necessary libraries:\n",
        "import pandas as pd\n",
        "from sklearn.model_selection import train_test_split\n",
        "from sklearn.feature_extraction.text import CountVectorizer\n",
        "from sklearn.naive_bayes import MultinomialNB\n",
        "from sklearn.metrics import accuracy_score\n",
        " \n",
        "sms = pd.read_csv('spam.csv', encoding='latin-1')\n",
        "X = sms['v2']\n",
        "y = sms['v1']\n",
        "X_train, X_test, y_train, y_test = train_test_split(X, y, test_size=0.2, random_state=42)\n",
        "#CountVectorizer class from Scikit-Learn to convert the text messages into a bag of words representation:\n",
        "vectorizer = CountVectorizer()\n",
        "X_train_count = vectorizer.fit_transform(X_train)\n",
        "X_test_count = vectorizer.transform(X_test)\n",
        "#Next, we will train a Multinomial Naive Bayes classifier on the training data:\n",
        "naive_bayes = MultinomialNB()\n",
        "naive_bayes.fit(X_train_count, y_train)\n",
        "#Finally, we will use the trained classifier to predict the labels of the test data \n",
        "#evaluate the performance of the model using the accuracy score:\n",
        "y_pred = naive_bayes.predict(X_test_count)\n",
        "accuracy = accuracy_score(y_test, y_pred)\n",
        "print('Accuracy: %.2f'% (accuracy*100),'%')"
      ]
    }
  ]
}